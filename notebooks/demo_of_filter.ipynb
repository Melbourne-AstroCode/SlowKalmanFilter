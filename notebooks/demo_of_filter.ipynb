{
 "cells": [
  {
   "cell_type": "markdown",
   "metadata": {},
   "source": [
    "## Demo of filter\n",
    "\n",
    "\n",
    "This notebook demonstrates the use of the Kalman filter."
   ]
  },
  {
   "cell_type": "markdown",
   "metadata": {},
   "source": [
    "## Setup \n",
    "\n",
    "\n",
    "First lets quickly set up some bits"
   ]
  },
  {
   "cell_type": "code",
   "execution_count": 4,
   "metadata": {},
   "outputs": [
    {
     "name": "stdout",
     "output_type": "stream",
     "text": [
      "The autoreload extension is already loaded. To reload it, use:\n",
      "  %reload_ext autoreload\n"
     ]
    }
   ],
   "source": [
    "%load_ext autoreload\n",
    "%autoreload 2"
   ]
  },
  {
   "cell_type": "code",
   "execution_count": 5,
   "metadata": {},
   "outputs": [],
   "source": [
    "import sys\n",
    "# Hacky way to add higher directory to python modules path. \n",
    "# Means that I dont have to make src/ a proper python package\n",
    "try:\n",
    "    sys.path.remove(\"../src\") \n",
    "except:\n",
    "    pass\n",
    "sys.path.append(\"../src\") "
   ]
  },
  {
   "cell_type": "markdown",
   "metadata": {},
   "source": [
    "## 1. Canonical example \n",
    "\n",
    "This is effectively the same steps that are taken by `main.py`\n"
   ]
  },
  {
   "cell_type": "code",
   "execution_count": 15,
   "metadata": {},
   "outputs": [
    {
     "name": "stderr",
     "output_type": "stream",
     "text": [
      "INFO:root:Welcome to the Slow Kalman Filter\n",
      "INFO:root:Random seed is 1234\n"
     ]
    },
    {
     "name": "stdout",
     "output_type": "stream",
     "text": [
      "Unexpected exception formatting exception. Falling back to standard exception\n"
     ]
    },
    {
     "name": "stderr",
     "output_type": "stream",
     "text": [
      "Traceback (most recent call last):\n",
      "  File \"/Users/t1/miniconda3/envs/KalmanGW/lib/python3.10/site-packages/IPython/core/interactiveshell.py\", line 3398, in run_code\n",
      "    exec(code_obj, self.user_global_ns, self.user_ns)\n",
      "  File \"/var/folders/bx/dsrq957n43bckqdm1vkk78yc0000gn/T/ipykernel_43553/1310309289.py\", line 15, in <cell line: 15>\n",
      "    data = SyntheticData(PTA,P)             # Given the system parameters and the PTA configuration, create some synthetic data\n",
      "  File \"/Users/t1/github_repos/SlowKalmanFilter/notebooks/../src/synthetic_data.py\", line 68, in __init__\n",
      "    GW = gw_measurement_equation(Ω=P.Ω,\n",
      "  File \"/Users/t1/github_repos/SlowKalmanFilter/notebooks/../src/gravitational_waves.py\", line 69, in gw_measurement_equation\n",
      "    for k in range(H):\n",
      "TypeError: only integer scalar arrays can be converted to a scalar index\n",
      "\n",
      "During handling of the above exception, another exception occurred:\n",
      "\n",
      "Traceback (most recent call last):\n",
      "  File \"/Users/t1/miniconda3/envs/KalmanGW/lib/python3.10/site-packages/IPython/core/interactiveshell.py\", line 1993, in showtraceback\n",
      "    stb = self.InteractiveTB.structured_traceback(\n",
      "  File \"/Users/t1/miniconda3/envs/KalmanGW/lib/python3.10/site-packages/IPython/core/ultratb.py\", line 1118, in structured_traceback\n",
      "    return FormattedTB.structured_traceback(\n",
      "  File \"/Users/t1/miniconda3/envs/KalmanGW/lib/python3.10/site-packages/IPython/core/ultratb.py\", line 1012, in structured_traceback\n",
      "    return VerboseTB.structured_traceback(\n",
      "  File \"/Users/t1/miniconda3/envs/KalmanGW/lib/python3.10/site-packages/IPython/core/ultratb.py\", line 865, in structured_traceback\n",
      "    formatted_exception = self.format_exception_as_a_whole(etype, evalue, etb, number_of_lines_of_context,\n",
      "  File \"/Users/t1/miniconda3/envs/KalmanGW/lib/python3.10/site-packages/IPython/core/ultratb.py\", line 818, in format_exception_as_a_whole\n",
      "    frames.append(self.format_record(r))\n",
      "  File \"/Users/t1/miniconda3/envs/KalmanGW/lib/python3.10/site-packages/IPython/core/ultratb.py\", line 736, in format_record\n",
      "    result += ''.join(_format_traceback_lines(frame_info.lines, Colors, self.has_colors, lvals))\n",
      "  File \"/Users/t1/miniconda3/envs/KalmanGW/lib/python3.10/site-packages/stack_data/utils.py\", line 145, in cached_property_wrapper\n",
      "    value = obj.__dict__[self.func.__name__] = self.func(obj)\n",
      "  File \"/Users/t1/miniconda3/envs/KalmanGW/lib/python3.10/site-packages/stack_data/core.py\", line 698, in lines\n",
      "    pieces = self.included_pieces\n",
      "  File \"/Users/t1/miniconda3/envs/KalmanGW/lib/python3.10/site-packages/stack_data/utils.py\", line 145, in cached_property_wrapper\n",
      "    value = obj.__dict__[self.func.__name__] = self.func(obj)\n",
      "  File \"/Users/t1/miniconda3/envs/KalmanGW/lib/python3.10/site-packages/stack_data/core.py\", line 649, in included_pieces\n",
      "    pos = scope_pieces.index(self.executing_piece)\n",
      "  File \"/Users/t1/miniconda3/envs/KalmanGW/lib/python3.10/site-packages/stack_data/utils.py\", line 145, in cached_property_wrapper\n",
      "    value = obj.__dict__[self.func.__name__] = self.func(obj)\n",
      "  File \"/Users/t1/miniconda3/envs/KalmanGW/lib/python3.10/site-packages/stack_data/core.py\", line 628, in executing_piece\n",
      "    return only(\n",
      "  File \"/Users/t1/miniconda3/envs/KalmanGW/lib/python3.10/site-packages/executing/executing.py\", line 164, in only\n",
      "    raise NotOneValueFound('Expected one value, found 0')\n",
      "executing.executing.NotOneValueFound: Expected one value, found 0\n"
     ]
    }
   ],
   "source": [
    "from system_parameters import SystemParameters\n",
    "from pulsars import Pulsars\n",
    "from synthetic_data import SyntheticData\n",
    "from model import PhaseModel\n",
    "from kalman_filter import KalmanFilter\n",
    "from priors import bilby_priors_dict\n",
    "\n",
    "import numpy as np \n",
    "\n",
    "\n",
    "\n",
    "#Setup and create some synthetic data\n",
    "P    = SystemParameters()    # User input system parameters. Can also be read from config file\n",
    "PTA  = Pulsars(P)                       # All pulsar-related quantities\n",
    "data = SyntheticData(PTA,P)             # Given the system parameters and the PTA configuration, create some synthetic data\n",
    "\n",
    "# #Define the model to be used by the Kalman Filter\n",
    "# model = PhaseModel(P,PTA)\n",
    "\n",
    "# #Initialise the Kalman filter\n",
    "# KF = KalmanFilter(model,data.phi_measured,PTA)\n",
    "\n",
    "# #Run the KF with the correct parameters.\n",
    "# #We get the correct parameters via Bilby dictionary, looking towards when we will run this with nested sampling\n",
    "# init_parameters,optimal_parameters_dict = bilby_priors_dict(PTA,P,set_state_parameters_as_known=True,set_measurement_parameters_as_known=True)\n",
    "# optimal_parameters                      = optimal_parameters_dict.sample(1)    \n",
    "# model_likelihood                        = KF.likelihood(optimal_parameters)\n",
    "\n",
    "    \n"
   ]
  },
  {
   "cell_type": "markdown",
   "metadata": {},
   "source": []
  }
 ],
 "metadata": {
  "kernelspec": {
   "display_name": "KalmanGW",
   "language": "python",
   "name": "python3"
  },
  "language_info": {
   "codemirror_mode": {
    "name": "ipython",
    "version": 3
   },
   "file_extension": ".py",
   "mimetype": "text/x-python",
   "name": "python",
   "nbconvert_exporter": "python",
   "pygments_lexer": "ipython3",
   "version": "3.10.4"
  }
 },
 "nbformat": 4,
 "nbformat_minor": 2
}
