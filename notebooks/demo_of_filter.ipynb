{
 "cells": [
  {
   "cell_type": "markdown",
   "metadata": {},
   "source": [
    "## Demo of filter\n",
    "\n",
    "\n",
    "This notebook demonstrates the use of the Kalman filter."
   ]
  },
  {
   "cell_type": "markdown",
   "metadata": {},
   "source": [
    "## Setup \n",
    "\n",
    "\n",
    "First lets quickly set up some bits"
   ]
  },
  {
   "cell_type": "code",
   "execution_count": 4,
   "metadata": {},
   "outputs": [
    {
     "name": "stdout",
     "output_type": "stream",
     "text": [
      "The autoreload extension is already loaded. To reload it, use:\n",
      "  %reload_ext autoreload\n"
     ]
    }
   ],
   "source": [
    "%load_ext autoreload\n",
    "%autoreload 2"
   ]
  },
  {
   "cell_type": "code",
   "execution_count": 5,
   "metadata": {},
   "outputs": [],
   "source": [
    "import sys\n",
    "# Hacky way to add higher directory to python modules path. \n",
    "# Means that I dont have to make src/ a proper python package\n",
    "try:\n",
    "    sys.path.remove(\"../src\") \n",
    "except:\n",
    "    pass\n",
    "sys.path.append(\"../src\") "
   ]
  },
  {
   "cell_type": "markdown",
   "metadata": {},
   "source": [
    "## 1. Canonical example \n",
    "\n",
    "This is effectively the same steps that are taken by `main.py`\n"
   ]
  },
  {
   "cell_type": "code",
   "execution_count": 10,
   "metadata": {},
   "outputs": [
    {
     "name": "stderr",
     "output_type": "stream",
     "text": [
      "INFO:root:Welcome to the Slow Kalman Filter\n",
      "INFO:root:Random seed is 1234\n"
     ]
    },
    {
     "ename": "AttributeError",
     "evalue": "'SyntheticData' object has no attribute 'state_phi'",
     "output_type": "error",
     "traceback": [
      "\u001b[0;31m---------------------------------------------------------------------------\u001b[0m",
      "\u001b[0;31mAttributeError\u001b[0m                            Traceback (most recent call last)",
      "\u001b[1;32m/Users/t1/github_repos/SlowKalmanFilter/notebooks/demo_of_filter.ipynb Cell 6\u001b[0m line \u001b[0;36m<cell line: 15>\u001b[0;34m()\u001b[0m\n\u001b[1;32m     <a href='vscode-notebook-cell:/Users/t1/github_repos/SlowKalmanFilter/notebooks/demo_of_filter.ipynb#X10sZmlsZQ%3D%3D?line=12'>13</a>\u001b[0m P    \u001b[39m=\u001b[39m SystemParameters()    \u001b[39m# User input system parameters. Can also be read from config file\u001b[39;00m\n\u001b[1;32m     <a href='vscode-notebook-cell:/Users/t1/github_repos/SlowKalmanFilter/notebooks/demo_of_filter.ipynb#X10sZmlsZQ%3D%3D?line=13'>14</a>\u001b[0m PTA  \u001b[39m=\u001b[39m Pulsars(P)                       \u001b[39m# All pulsar-related quantities\u001b[39;00m\n\u001b[0;32m---> <a href='vscode-notebook-cell:/Users/t1/github_repos/SlowKalmanFilter/notebooks/demo_of_filter.ipynb#X10sZmlsZQ%3D%3D?line=14'>15</a>\u001b[0m data \u001b[39m=\u001b[39m SyntheticData(PTA,P)             \u001b[39m# Given the system parameters and the PTA configuration, create some synthetic data\u001b[39;00m\n\u001b[1;32m     <a href='vscode-notebook-cell:/Users/t1/github_repos/SlowKalmanFilter/notebooks/demo_of_filter.ipynb#X10sZmlsZQ%3D%3D?line=16'>17</a>\u001b[0m \u001b[39m#Define the model to be used by the Kalman Filter\u001b[39;00m\n\u001b[1;32m     <a href='vscode-notebook-cell:/Users/t1/github_repos/SlowKalmanFilter/notebooks/demo_of_filter.ipynb#X10sZmlsZQ%3D%3D?line=17'>18</a>\u001b[0m model \u001b[39m=\u001b[39m PhaseModel(P,PTA)\n",
      "File \u001b[0;32m~/github_repos/SlowKalmanFilter/notebooks/../src/synthetic_data.py:80\u001b[0m, in \u001b[0;36m__init__\u001b[0;34m(self, pulsars, P)\u001b[0m\n\u001b[1;32m     76\u001b[0m self.state_phi = state[:,0::2]\n\u001b[1;32m     77\u001b[0m self.state_f = state[:,1::2]\n\u001b[0;32m---> 80\u001b[0m # #Now calculate the modulation factor due to the GW   \n\u001b[1;32m     81\u001b[0m #GW_function = gw_psr_terms \n\u001b[1;32m     82\u001b[0m # \n\u001b[1;32m     83\u001b[0m #      \n\u001b[1;32m     84\u001b[0m # if P.use_psr_terms_in_data:\n\u001b[1;32m     85\u001b[0m     \n\u001b[1;32m     86\u001b[0m #     logging.info(\"You are including the PSR terms in your synthetic data generation\")\n\u001b[1;32m     87\u001b[0m # else:\n\u001b[1;32m     88\u001b[0m #     GW_function = gw_earth_terms\n\u001b[1;32m     89\u001b[0m #     logging.info(\"You are using just the Earth terms in your synthetic data generation\")\n\u001b[1;32m     90\u001b[0m \n\u001b[1;32m     91\u001b[0m \n\u001b[1;32m     92\u001b[0m \n\u001b[1;32m     93\u001b[0m \n\u001b[1;32m     94\u001b[0m #Now get the heterodyned phi measured at the detector\n\u001b[1;32m     95\u001b[0m GW = gw_psr_terms(\n\u001b[1;32m     96\u001b[0m                                 P.δ,\n\u001b[1;32m     97\u001b[0m                                 P.α,\n\u001b[0;32m   (...)\u001b[0m\n\u001b[1;32m    106\u001b[0m                                 pulsars.χ\n\u001b[1;32m    107\u001b[0m                                 )\n\u001b[1;32m    110\u001b[0m self.phi_measured_no_noise = self.state_phi - (self.state_f+pulsars.ephemeris)*GW\n",
      "\u001b[0;31mAttributeError\u001b[0m: 'SyntheticData' object has no attribute 'state_phi'"
     ]
    }
   ],
   "source": [
    "from system_parameters import SystemParameters\n",
    "from pulsars import Pulsars\n",
    "from synthetic_data import SyntheticData\n",
    "from model import PhaseModel\n",
    "from kalman_filter import KalmanFilter\n",
    "from priors import bilby_priors_dict\n",
    "\n",
    "import numpy as np \n",
    "\n",
    "\n",
    "\n",
    "#Setup and create some synthetic data\n",
    "P    = SystemParameters()    # User input system parameters. Can also be read from config file\n",
    "PTA  = Pulsars(P)                       # All pulsar-related quantities\n",
    "data = SyntheticData(PTA,P)             # Given the system parameters and the PTA configuration, create some synthetic data\n",
    "\n",
    "# #Define the model to be used by the Kalman Filter\n",
    "# model = PhaseModel(P,PTA)\n",
    "\n",
    "# #Initialise the Kalman filter\n",
    "# KF = KalmanFilter(model,data.phi_measured,PTA)\n",
    "\n",
    "# #Run the KF with the correct parameters.\n",
    "# #We get the correct parameters via Bilby dictionary, looking towards when we will run this with nested sampling\n",
    "# init_parameters,optimal_parameters_dict = bilby_priors_dict(PTA,P,set_state_parameters_as_known=True,set_measurement_parameters_as_known=True)\n",
    "# optimal_parameters                      = optimal_parameters_dict.sample(1)    \n",
    "# model_likelihood                        = KF.likelihood(optimal_parameters)\n",
    "\n",
    "    \n"
   ]
  },
  {
   "cell_type": "markdown",
   "metadata": {},
   "source": []
  }
 ],
 "metadata": {
  "kernelspec": {
   "display_name": "KalmanGW",
   "language": "python",
   "name": "python3"
  },
  "language_info": {
   "codemirror_mode": {
    "name": "ipython",
    "version": 3
   },
   "file_extension": ".py",
   "mimetype": "text/x-python",
   "name": "python",
   "nbconvert_exporter": "python",
   "pygments_lexer": "ipython3",
   "version": "3.10.4"
  }
 },
 "nbformat": 4,
 "nbformat_minor": 2
}
